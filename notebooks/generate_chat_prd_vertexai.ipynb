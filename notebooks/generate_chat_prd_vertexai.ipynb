{
 "cells": [
  {
   "cell_type": "code",
   "execution_count": 1,
   "metadata": {},
   "outputs": [],
   "source": [
    "import vertexai\n",
    "from vertexai.preview.language_models import ChatModel\n",
    "from IPython.display import display, Markdown\n",
    "import wandb\n",
    "from wandb_addons.prompts import Trace\n",
    "import datetime as dt"
   ]
  },
  {
   "cell_type": "code",
   "execution_count": 2,
   "metadata": {},
   "outputs": [
    {
     "name": "stderr",
     "output_type": "stream",
     "text": [
      "Failed to detect the name of this notebook, you can set it manually with the WANDB_NOTEBOOK_NAME environment variable to enable code saving.\n",
      "\u001b[34m\u001b[1mwandb\u001b[0m: Currently logged in as: \u001b[33marihantsheth\u001b[0m. Use \u001b[1m`wandb login --relogin`\u001b[0m to force relogin\n"
     ]
    },
    {
     "data": {
      "text/html": [
       "wandb version 0.15.5 is available!  To upgrade, please run:\n",
       " $ pip install wandb --upgrade"
      ],
      "text/plain": [
       "<IPython.core.display.HTML object>"
      ]
     },
     "metadata": {},
     "output_type": "display_data"
    },
    {
     "data": {
      "text/html": [
       "Tracking run with wandb version 0.15.4"
      ],
      "text/plain": [
       "<IPython.core.display.HTML object>"
      ]
     },
     "metadata": {},
     "output_type": "display_data"
    },
    {
     "data": {
      "text/html": [
       "Run data is saved locally in <code>c:\\Users\\ariha\\Desktop\\Synap-Labs-temp\\productx\\notebooks\\wandb\\run-20230718_150101-nnsw379j</code>"
      ],
      "text/plain": [
       "<IPython.core.display.HTML object>"
      ]
     },
     "metadata": {},
     "output_type": "display_data"
    },
    {
     "data": {
      "text/html": [
       "Syncing run <strong><a href='https://wandb.ai/arihantsheth/chat-prd-vertexai/runs/nnsw379j' target=\"_blank\">chat-prd-vertexai</a></strong> to <a href='https://wandb.ai/arihantsheth/chat-prd-vertexai' target=\"_blank\">Weights & Biases</a> (<a href='https://wandb.me/run' target=\"_blank\">docs</a>)<br/>"
      ],
      "text/plain": [
       "<IPython.core.display.HTML object>"
      ]
     },
     "metadata": {},
     "output_type": "display_data"
    },
    {
     "data": {
      "text/html": [
       " View project at <a href='https://wandb.ai/arihantsheth/chat-prd-vertexai' target=\"_blank\">https://wandb.ai/arihantsheth/chat-prd-vertexai</a>"
      ],
      "text/plain": [
       "<IPython.core.display.HTML object>"
      ]
     },
     "metadata": {},
     "output_type": "display_data"
    },
    {
     "data": {
      "text/html": [
       " View run at <a href='https://wandb.ai/arihantsheth/chat-prd-vertexai/runs/nnsw379j' target=\"_blank\">https://wandb.ai/arihantsheth/chat-prd-vertexai/runs/nnsw379j</a>"
      ],
      "text/plain": [
       "<IPython.core.display.HTML object>"
      ]
     },
     "metadata": {},
     "output_type": "display_data"
    }
   ],
   "source": [
    "vertexai.init(project=\"synap-labs-390404\", location=\"us-central1\")\n",
    "\n",
    "wandb.init(project=\"chat-prd-vertexai\", entity=\"arihantsheth\", name=\"chat-prd-vertexai\")\n",
    "\n",
    "chat_model = ChatModel.from_pretrained(\"chat-bison@001\")\n",
    "\n",
    "parameters = {\n",
    "    \"temperature\": 0,\n",
    "    \"max_output_tokens\": 512,\n",
    "    \"top_p\": 0.3,\n",
    "    \"top_k\": 40\n",
    "}\n",
    "\n",
    "product_name_dac = \"Dual Camera Activation Button\"\n",
    "product_desc_dac = \"A button in the Instagram camera app that enables users to activate both their front and rear cameras at the same time.\"\n",
    "\n",
    "product_name_int = \"Instagram Threads\"\n",
    "product_desc_int = \"A new app by Instagram that allows users to post tweet-like content\"\n",
    "\n",
    "product_name = product_name_int\n",
    "product_desc = product_desc_int\n",
    "\n",
    "context = f\"\"\"Context:\n",
    "You are a smart product manager who answers in a concise way. You have to help the user create a Product Requirement Document based on the questions the user asks you. The user will ask you specific questions about each topic they want to be included in the PRD. \n",
    "\n",
    "You have to only answer the questions asked by the user, and not provide any additional information. This is a very important skill for a product manager, as they have to be concise and to the point. Do not repeat the same information again and again. Answers to each question should be unique and not repetitive. \n",
    "\n",
    "Format your responses in Markdown mode with each topic being the ##Heading, and your answer being the content. Highlight important points in **bold**\n",
    "\n",
    "The user wants to build the following product:\n",
    "Product Name: {product_name}\n",
    "Product Description: {product_desc}\"\"\",\n",
    "\n",
    "prompts_list = [\n",
    "    \"\"\"Product Overview:\n",
    "Define the Purpose and Scope of this product. It should include how different groups of users across ages, genders, and geographies can use this product. Include an overview of the product. Why should one use this product? Define the target audience and stakeholders in detail. Also, include the rationale behind having the particular group as the target audience. Explain the gap it is trying to fill as well - how it is different from and better than other similar products?\"\"\",\n",
    "    \"\"\"Product Objectives:\n",
    "First, analyze whether the product objectives align with the company objectives. Think aloud. Explain your reasoning. Also, talk about why and how the business models of the product and company match. What company goals can the product help achieve - be it attracting customers, generating profits, or promoting the goodwill of the company? Also, explain how it would do this.\"\"\",\n",
    "    \"\"\"Market Research:\n",
    "First, list out current and potential competitors. Current competitors should include already established businesses/products. Potential competitors should include products and businesses that aren’t yet popular or are still under development/ beta version. Also include major or minor differences between our product and the competitor products you have identified. Analyze how aspects of our product or competitor products are better for that particular aspect. How do the target customers different? Does our product better cater to current trends and expectations of the users? How? What should the product include to meet those trends and expectations.\"\"\",\n",
    "    \"\"\"Competitive Analysis Table:\n",
    "Use all the above competitors to create a competitive analysis of these applications in a tabular form using the following points - user base, user region, different features supported, and pricing tiers. Don't limit yourself to these categories and think of other categories yourself. Return the output in a well-structured Markdown table\"\"\",\n",
    "    \"\"\"Feature Requirements:\n",
    "What are some of the important features that should be implemented? Follow the MoSCoW format (Must have, Should have, Could have, Won’t have, along with why). How are we going to collect user inputs and use user data that we collect to make the product better and add other features?\"\"\",\n",
    "    \"\"\"Acceptance Criteria:\n",
    "Define the quality of completeness required to be able to get to the MVP stage of this product.\"\"\",\n",
    "    \"\"\"Success Metrics:\n",
    "How do we define success in this product? What are the KPIs to look out for? How are they measured? Why do those KPIs matter? How are we going to use these KPIs to make the product better?\"\"\",\n",
    "    \"\"\"Technical Feasibilities:\n",
    "Outline the technical roadmap for this product. What mobile devices should this application be available for? What is a scalable and reliable tech stack which can be used for the frontend and the backend for this application?\"\"\",\n",
    "]"
   ]
  },
  {
   "cell_type": "code",
   "execution_count": 3,
   "metadata": {},
   "outputs": [
    {
     "data": {
      "text/html": [
       "Waiting for W&B process to finish... <strong style=\"color:green\">(success).</strong>"
      ],
      "text/plain": [
       "<IPython.core.display.HTML object>"
      ]
     },
     "metadata": {},
     "output_type": "display_data"
    },
    {
     "data": {
      "text/html": [
       "<style>\n",
       "    table.wandb td:nth-child(1) { padding: 0 10px; text-align: left ; width: auto;} td:nth-child(2) {text-align: left ; width: 100%}\n",
       "    .wandb-row { display: flex; flex-direction: row; flex-wrap: wrap; justify-content: flex-start; width: 100% }\n",
       "    .wandb-col { display: flex; flex-direction: column; flex-basis: 100%; flex: 1; padding: 10px; }\n",
       "    </style>\n",
       "<div class=\"wandb-row\"><div class=\"wandb-col\"><h3>Run summary:</h3><br/><table class=\"wandb\"><tr><td>prd</td><td>## Product Overview\n",
       "...</td></tr></table><br/></div></div>"
      ],
      "text/plain": [
       "<IPython.core.display.HTML object>"
      ]
     },
     "metadata": {},
     "output_type": "display_data"
    },
    {
     "data": {
      "text/html": [
       " View run <strong style=\"color:#cdcd00\">chat-prd-vertexai</strong> at: <a href='https://wandb.ai/arihantsheth/chat-prd-vertexai/runs/nnsw379j' target=\"_blank\">https://wandb.ai/arihantsheth/chat-prd-vertexai/runs/nnsw379j</a><br/>Synced 4 W&B file(s), 0 media file(s), 0 artifact file(s) and 0 other file(s)"
      ],
      "text/plain": [
       "<IPython.core.display.HTML object>"
      ]
     },
     "metadata": {},
     "output_type": "display_data"
    },
    {
     "data": {
      "text/html": [
       "Find logs at: <code>.\\wandb\\run-20230718_150101-nnsw379j\\logs</code>"
      ],
      "text/plain": [
       "<IPython.core.display.HTML object>"
      ]
     },
     "metadata": {},
     "output_type": "display_data"
    }
   ],
   "source": [
    "start_time_ms = round(dt.datetime.now().timestamp() * 1000)\n",
    "\n",
    "chat = chat_model.start_chat(\n",
    "    context=f\"\"\"\\\n",
    "You are a smart product manager who answers in a concise way. You have to help the user create a Product Requirement Document based on the questions the user asks you. The user will ask you specific questions about each topic they want to be included in the PRD. \n",
    "\n",
    "You have to only answer the questions asked by the user, and not provide any additional information. This is a very important skill for a product manager, as they have to be concise and to the point. Do not repeat the same information again and again. Answers to each question should be unique and not repetitive. \n",
    "\n",
    "Format your responses in Markdown mode with each topic being the ##Heading, and your answer being the content. Highlight important points in **bold**. Give the PRD a suitable #Title.\n",
    "\n",
    "The user wants to build the following product:\n",
    "Product Name: {product_name}\n",
    "Product Description: {product_desc}\"\"\"\n",
    ")\n",
    "\n",
    "end_time_ms = round(dt.datetime.now().timestamp() * 1000)\n",
    "status = \"success\"\n",
    "response_text = chat._context\n",
    "\n",
    "root_span = Trace(\n",
    "    name=\"root_span\",\n",
    "    kind=\"llm\",  \n",
    "    status_code=status,\n",
    "    start_time_ms=start_time_ms,\n",
    "    end_time_ms=end_time_ms,\n",
    "    inputs={\"system_prompt\": chat._context},\n",
    "    outputs={\"response\": \"\"},\n",
    ")\n",
    "\n",
    "root_span.log(name=\"vertexai-trace\")\n",
    "\n",
    "\n",
    "prd = \"\"\n",
    "\n",
    "for i, prompt in enumerate(prompts_list):\n",
    "\n",
    "    start_time_ms = round(dt.datetime.now().timestamp() * 1000)\n",
    "\n",
    "    response = chat.send_message(\n",
    "        message=prompt,\n",
    "        **parameters\n",
    "    )\n",
    "    prd += response.text + \"\\n\\n\"\n",
    "\n",
    "    end_time_ms = round(dt.datetime.now().timestamp() * 1000)\n",
    "    status = \"success\"\n",
    "    response_text = response.text\n",
    "\n",
    "    root_span = Trace(\n",
    "        name=\"root_span\",\n",
    "        kind=\"llm\",  \n",
    "        status_code=status,\n",
    "        start_time_ms=start_time_ms,\n",
    "        end_time_ms=end_time_ms,\n",
    "        inputs={\"system_prompt\": chat._message_history[-2].content},\n",
    "        outputs={\"response\": response_text},\n",
    "        )\n",
    "\n",
    "    root_span.log(name=\"vertexai-trace\")\n",
    "\n",
    "wandb.log({\"prd\": prd})\n",
    "\n",
    "wandb.finish()"
   ]
  },
  {
   "cell_type": "code",
   "execution_count": null,
   "metadata": {},
   "outputs": [],
   "source": [
    "with open(f\"../generated_prds/{product_name} Chat VertexAI PRD v2.md\", \"w\") as f:\n",
    "    f.write(prd)"
   ]
  },
  {
   "cell_type": "code",
   "execution_count": null,
   "metadata": {},
   "outputs": [],
   "source": [
    "display(Markdown(prd))"
   ]
  }
 ],
 "metadata": {
  "kernelspec": {
   "display_name": "synap_labs_env",
   "language": "python",
   "name": "python3"
  },
  "language_info": {
   "codemirror_mode": {
    "name": "ipython",
    "version": 3
   },
   "file_extension": ".py",
   "mimetype": "text/x-python",
   "name": "python",
   "nbconvert_exporter": "python",
   "pygments_lexer": "ipython3",
   "version": "3.10.5"
  },
  "orig_nbformat": 4
 },
 "nbformat": 4,
 "nbformat_minor": 2
}
