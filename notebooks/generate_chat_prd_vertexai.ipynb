{
 "cells": [
  {
   "cell_type": "code",
   "execution_count": 75,
   "metadata": {},
   "outputs": [],
   "source": [
    "import vertexai\n",
    "from vertexai.preview.language_models import ChatModel, InputOutputTextPair\n",
    "from IPython.display import display, Markdown"
   ]
  },
  {
   "cell_type": "code",
   "execution_count": 76,
   "metadata": {},
   "outputs": [],
   "source": [
    "vertexai.init(project=\"synap-labs-390404\", location=\"us-central1\")\n",
    "\n",
    "chat_model = ChatModel.from_pretrained(\"chat-bison@001\")\n",
    "\n",
    "parameters = {\n",
    "    \"temperature\": 0,\n",
    "    \"max_output_tokens\": 1024,\n",
    "    \"top_p\": 0.3,\n",
    "    \"top_k\": 40\n",
    "}"
   ]
  },
  {
   "cell_type": "code",
   "execution_count": 77,
   "metadata": {},
   "outputs": [],
   "source": [
    "chat = chat_model.start_chat(\n",
    "    context=\"\"\"You are a smart product manager who answers in a concise way. You have to help the user create a Product Requirement Document based on the questions the users asks you. The user will ask you specific questions about each topic they want to be included in the PRD. \n",
    "    \n",
    "    You have to only answer the questions asked by the user, and not provide any additional information. This is a very important skill for a product manager, as they have to be concise and to the point. \n",
    "    \n",
    "    Format your responses in Markdown mode with each topic being the ##heading, and your answer being the content. Highlight importand points in **bold**\"\"\",\n",
    ")"
   ]
  },
  {
   "cell_type": "code",
   "execution_count": 78,
   "metadata": {},
   "outputs": [],
   "source": [
    "response = chat.send_message(\"\"\"I want to add the following new feature:\n",
    "Instagram Threads\n",
    "\n",
    "Feature description: Gives users the ability to create tweets-like posts on instagram.\n",
    "\n",
    "1. Purpose & Scope: \n",
    "- An overview of the product\n",
    "- Define the target audience in detail\n",
    "- Define the stakeholders\n",
    "- Explain the gap it is trying to fill\"\"\", **parameters)\n",
    "\n",
    "prd = response.text + \"\\n\\n\""
   ]
  },
  {
   "cell_type": "code",
   "execution_count": 79,
   "metadata": {},
   "outputs": [],
   "source": [
    "response = chat.send_message(\"\"\"2. Product Objectives:\n",
    "- How do the objectives of this product align with the company\\'s objectives?\n",
    "- The business style of the PRD should be similar to the business style of the company\"\"\", **parameters)\n",
    "\n",
    "prd += response.text + \"\\n\\n\""
   ]
  },
  {
   "cell_type": "code",
   "execution_count": 80,
   "metadata": {},
   "outputs": [],
   "source": [
    "response = chat.send_message(\"\"\"Market Research:\n",
    "- How is the target audience in this segment?\n",
    "- What are the industry trends and customer expectations?\"\"\", **parameters)\n",
    "\n",
    "# prd += response.text + \"\\n\\n\""
   ]
  },
  {
   "cell_type": "code",
   "execution_count": 81,
   "metadata": {},
   "outputs": [],
   "source": [
    "response = chat.send_message(\"\"\"List some competitors of this application in bullet points.\"\"\")\n",
    "\n",
    "prd += response.text + \"\\n\\n\""
   ]
  },
  {
   "cell_type": "code",
   "execution_count": 82,
   "metadata": {},
   "outputs": [],
   "source": [
    "response = chat.send_message(\"\"\"Use all the above competitors to create a competitive analysis of these applications in a tabular form using the following points - user base, user region, different features supported, and pricing tiers. Don't limit yourself to these categories and think of other categories yourself. Return the output in a well-structured Markdown table\"\"\")\n",
    "\n",
    "prd += response.text + \"\\n\\n\""
   ]
  },
  {
   "cell_type": "code",
   "execution_count": 83,
   "metadata": {},
   "outputs": [],
   "source": [
    "response = chat.send_message(\"\"\"Feature Requirements:\n",
    "- What are some of the important features that should be implemented?\n",
    "- Follow the MoSCoW format (Must have, Should have, Could have, Won’t have).\n",
    "- If you have any questions for the user, you can ask them here.\"\"\", **parameters)\n",
    "\n",
    "prd += response.text + \"\\n\\n\""
   ]
  },
  {
   "cell_type": "code",
   "execution_count": 84,
   "metadata": {},
   "outputs": [],
   "source": [
    "response = chat.send_message(\"\"\"Acceptance Criteria:\n",
    "- Define the technical and non-technical quality of completeness required to be able to get to the MVP stage of this product\"\"\", **parameters)\n",
    "\n",
    "prd += response.text + \"\\n\\n\""
   ]
  },
  {
   "cell_type": "code",
   "execution_count": 85,
   "metadata": {},
   "outputs": [],
   "source": [
    "response = chat.send_message(\"\"\"Success Metrics:\n",
    "- How do we define success in this product?\n",
    "- What are the KPIs to look out for?\"\"\", **parameters)\n",
    "\n",
    "prd += response.text + \"\\n\\n\""
   ]
  },
  {
   "cell_type": "code",
   "execution_count": 86,
   "metadata": {},
   "outputs": [],
   "source": [
    "response = chat.send_message(\"\"\"Technical Feasibilities:\n",
    "- What devices should this app be available for? Web/iOS/Android/more\n",
    "- What is the tech stack to be used for the frontend?\n",
    "- What is the tech stack to be used for making the backend scalable?\"\"\", **parameters)\n",
    "\n",
    "prd += response.text + \"\\n\\n\""
   ]
  },
  {
   "cell_type": "code",
   "execution_count": 87,
   "metadata": {},
   "outputs": [],
   "source": [
    "with open(\"../generated_prds/Instagram Threads Chat VertexAI PRD.md\", \"w\") as f:\n",
    "    f.write(prd)"
   ]
  },
  {
   "cell_type": "code",
   "execution_count": 88,
   "metadata": {},
   "outputs": [
    {
     "data": {
      "text/markdown": [
       "## Purpose & Scope\n",
       "\n",
       "**Overview**\n",
       "\n",
       "Instagram Threads is a new feature that will allow users to create tweets-like posts on Instagram. This will allow users to share their thoughts and ideas in a more concise and easy-to-read format.\n",
       "\n",
       "**Target Audience**\n",
       "\n",
       "The target audience for Instagram Threads is millennials and Gen Z users who are looking for a more engaging way to share their thoughts and ideas.\n",
       "\n",
       "**Stakeholders**\n",
       "\n",
       "The stakeholders for Instagram Threads include Instagram's users, as well as the company itself. Instagram's users will benefit from being able to share their thoughts and ideas in a more concise and easy-to-read format. Instagram will benefit from the increased engagement and user activity that Instagram Threads will generate.\n",
       "\n",
       "**Gap it is trying to fill**\n",
       "\n",
       "Instagram Threads is trying to fill the gap in Instagram's current offering by providing a way for users to share their thoughts and ideas in a more concise and easy-to-read format. Instagram currently does not have a feature that allows users to do this, and as a result, users are often forced to use other platforms, such as Twitter, to share their thoughts and ideas. Instagram Threads will allow users to stay on Instagram and share their thoughts and ideas with their followers.\n",
       "\n",
       "## Product Objectives\n",
       "\n",
       "Instagram Threads is aligned with Instagram's overall objective of providing a platform for users to share their thoughts and ideas. Instagram Threads will allow users to do this in a more concise and easy-to-read format, which will increase engagement and user activity.\n",
       "\n",
       "Instagram Threads is also aligned with Instagram's objective of staying ahead of the competition. Twitter is a popular platform for users to share their thoughts and ideas, and Instagram Threads will allow Instagram to compete with Twitter in this area.\n",
       "\n",
       "The business style of the PRD should be similar to the business style of the company. This means that the PRD should be concise, clear, and easy to understand. The PRD should also be focused on the business objectives of the product.\n",
       "\n",
       "## Competitors\n",
       "\n",
       "* Twitter\n",
       "* Facebook\n",
       "* Snapchat\n",
       "* TikTok\n",
       "\n",
       "These platforms all allow users to share their thoughts and ideas in a concise and easy-to-read format. Instagram Threads will compete with these platforms by offering a unique and engaging experience that is tailored to the needs of millennials and Gen Z users.\n",
       "\n",
       "## Competitive Analysis\n",
       "\n",
       "| Competitors | User Base | User Region | Different Features Supported | Pricing Tiers |\n",
       "|---|---|---|---|---|\n",
       "| Instagram Threads | Millennials and Gen Z users | Worldwide | Tweets-like posts, photos, videos, stories, direct messages, live videos, reels | Free |\n",
       "| Twitter | All ages | Worldwide | Tweets, photos, videos, direct messages, live videos, polls | Free |\n",
       "| Facebook | All ages | Worldwide | Posts, photos, videos, direct messages, live videos, stories, events | Free |\n",
       "| Snapchat | Millennials and Gen Z users | Worldwide\n",
       "\n",
       "## Feature Requirements\n",
       "\n",
       "**Must Have**\n",
       "\n",
       "* Users must be able to create tweets-like posts on Instagram.\n",
       "* Tweets-like posts must be limited to 280 characters.\n",
       "* Tweets-like posts must be visible to the user's followers.\n",
       "* Users must be able to like, comment, and share tweets-like posts.\n",
       "\n",
       "**Should Have**\n",
       "\n",
       "* Users should be able to add photos, videos, and links to their tweets-like posts.\n",
       "* Users should be able to tag other users in their tweets-like posts.\n",
       "* Users should be able to schedule tweets-like posts to be published at a later date.\n",
       "\n",
       "**Could Have**\n",
       "\n",
       "* Users could have the ability to create polls in their tweets-like posts.\n",
       "* Users could have the ability to create quizzes in their tweets-like posts.\n",
       "* Users could have the ability to create events in their tweets-like posts.\n",
       "\n",
       "**Won't Have**\n",
       "\n",
       "* Users will not be able to delete tweets-like posts after they have been published.\n",
       "* Users will not be able to edit tweets-like posts after they have been published.\n",
       "\n",
       "**Questions for the user:**\n",
       "\n",
       "* What are the key features that you would like to see in Instagram Threads?\n",
       "* What are the features that you would consider to be essential?\n",
       "* What are the features that you would consider to be nice-to-have?\n",
       "* What are the features that you would consider to be unnecessary?\n",
       "\n",
       "## Acceptance Criteria\n",
       "\n",
       "The following are the acceptance criteria for Instagram Threads:\n",
       "\n",
       "* **Technical:**\n",
       "    * The feature must be implemented in a way that is scalable and reliable.\n",
       "    * The feature must be secure and protect user data.\n",
       "    * The feature must be accessible to users with disabilities.\n",
       "* **Non-technical:**\n",
       "    * The feature must be easy to use and understand.\n",
       "    * The feature must be engaging and interesting to users.\n",
       "    * The feature must be aligned with Instagram's overall brand and values.\n",
       "\n",
       "These acceptance criteria will be used to evaluate the success of Instagram Threads and to determine when the feature is ready to be released to the public.\n",
       "\n",
       "## Success Metrics\n",
       "\n",
       "The following are the success metrics for Instagram Threads:\n",
       "\n",
       "* **Number of active users:** The number of users who use Instagram Threads on a regular basis.\n",
       "* **Number of tweets-like posts:** The number of tweets-like posts that are created on Instagram Threads.\n",
       "* **Engagement rate:** The percentage of users who like, comment, or share tweets-like posts.\n",
       "* **Retention rate:** The percentage of users who continue to use Instagram Threads after the first month.\n",
       "\n",
       "These metrics will be used to evaluate the success of Instagram Threads and to determine whether the feature is meeting the company's objectives.\n",
       "\n",
       "## Technical Feasibilities\n",
       "\n",
       "* **Devices**\n",
       "\n",
       "Instagram Threads will be available for iOS and Android devices.\n",
       "\n",
       "* **Frontend**\n",
       "\n",
       "The frontend of Instagram Threads will be built using React Native.\n",
       "\n",
       "* **Backend**\n",
       "\n",
       "The backend of Instagram Threads will be built using a microservices architecture. The microservices will be hosted on AWS Lambda.\n",
       "\n",
       "* **Scalability**\n",
       "\n",
       "Instagram Threads will be scalable to handle a large number of users. The microservices will be load balanced and auto scaled to meet demand.\n",
       "\n",
       "* **Security**\n",
       "\n",
       "Instagram Threads will be secure and protect user data. The data will be encrypted at rest and in transit.\n",
       "\n",
       "* **Accessibility**\n",
       "\n",
       "Instagram Threads will be accessible to users with disabilities. The feature will be compliant with the Web Content Accessibility Guidelines (WCAG).\n",
       "\n",
       "* **Localization**\n",
       "\n",
       "Instagram Threads will be localized for a variety of languages. The feature will be translated into the following languages: English, Spanish, French, German, Italian, Portuguese, Russian, Chinese, Japanese, and Korean.\n",
       "\n",
       "* **Testing**\n",
       "\n",
       "Instagram Threads will be thoroughly tested before it is released to the public. The feature will be tested for functionality, performance, security, and accessibility.\n",
       "\n",
       "* **Deployment**\n",
       "\n",
       "Instagram Threads will be deployed to production using a continuous integration and continuous delivery (CI/CD) pipeline. The feature will be deployed to a staging environment before it is deployed to production.\n",
       "\n",
       "* **Monitoring**\n",
       "\n",
       "Instagram Threads will be monitored to ensure that it is functioning properly. The feature will be monitored for performance, errors, and security vulnerabilities.\n",
       "\n",
       "* **Support**\n",
       "\n",
       "Instagram Threads will provide support to users who have questions or problems with the feature. The support team will be available to answer questions, troubleshoot problems, and provide assistance.\n",
       "\n"
      ],
      "text/plain": [
       "<IPython.core.display.Markdown object>"
      ]
     },
     "metadata": {},
     "output_type": "display_data"
    }
   ],
   "source": [
    "display(Markdown(prd))"
   ]
  }
 ],
 "metadata": {
  "kernelspec": {
   "display_name": "synap_labs_env",
   "language": "python",
   "name": "python3"
  },
  "language_info": {
   "codemirror_mode": {
    "name": "ipython",
    "version": 3
   },
   "file_extension": ".py",
   "mimetype": "text/x-python",
   "name": "python",
   "nbconvert_exporter": "python",
   "pygments_lexer": "ipython3",
   "version": "3.10.5"
  },
  "orig_nbformat": 4
 },
 "nbformat": 4,
 "nbformat_minor": 2
}
