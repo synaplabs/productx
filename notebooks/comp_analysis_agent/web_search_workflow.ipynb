{
 "cells": [
  {
   "cell_type": "code",
   "execution_count": 20,
   "metadata": {},
   "outputs": [],
   "source": [
    "from serpapi import GoogleSearch\n",
    "import requests\n",
    "from bs4 import BeautifulSoup\n",
    "import os\n",
    "from IPython.display import display, Markdown\n",
    "from http.client import responses as http_responses\n",
    "\n",
    "from langchain.llms import OpenAI\n",
    "from langchain.chat_models import ChatOpenAI\n",
    "from langchain.document_loaders.base import Document\n",
    "from langchain.embeddings.openai import OpenAIEmbeddings\n",
    "from langchain.vectorstores import Chroma\n",
    "from langchain.text_splitter import CharacterTextSplitter, RecursiveCharacterTextSplitter\n",
    "from langchain.chains import RetrievalQA, RetrievalQAWithSourcesChain, ConversationalRetrievalChain"
   ]
  },
  {
   "cell_type": "code",
   "execution_count": 13,
   "metadata": {},
   "outputs": [
    {
     "name": "stdout",
     "output_type": "stream",
     "text": [
      "Number of organic results: 10\n"
     ]
    }
   ],
   "source": [
    "search_query = \"Spotify market analysis 2022\"\n",
    "\n",
    "llm = ChatOpenAI(\n",
    "    model=\"text-davinci-003\",\n",
    "    temperature=0,\n",
    "    openai_api_key=os.environ[\"OPENAI_API_KEY\"]\n",
    ")\n",
    "\n",
    "search = GoogleSearch({\n",
    "    \"q\": search_query,\n",
    "    \"location\": \"Mumbai, Maharashtra, India\",\n",
    "    \"api_key\": os.environ[\"SERPAPI_API_KEY\"]\n",
    "})\n",
    "\n",
    "results = search.get_dict()\n",
    "\n",
    "if \"error\" in results:\n",
    "    print(f\"Error: {results['error']}\")\n",
    "else:\n",
    "    print(f\"Number of organic results: {len(results['organic_results'])}\")\n",
    "\n",
    "vectordb = Chroma(embedding_function=OpenAIEmbeddings())"
   ]
  },
  {
   "cell_type": "code",
   "execution_count": 14,
   "metadata": {},
   "outputs": [
    {
     "name": "stdout",
     "output_type": "stream",
     "text": [
      "Title: Spotify Revenue and Usage Statistics (2023)\n",
      "Link: https://www.businessofapps.com/data/spotify-statistics/\n",
      "Response code: 403\n",
      "Reponse Message: Forbidden\n",
      "\n",
      "Title: Highlights from Spotify's Q2 '22 earnings\n",
      "Link: https://ads.spotify.com/en-US/news-and-insights/spotify-second-quarter-earnings-2022/\n",
      "Response code: 200\n",
      "Reponse Message: OK\n",
      "Added 6 documents to the database\n",
      "\n",
      "Title: Spotify stays strong through a rocky 2022, but podcasts ...\n",
      "Link: https://www.insiderintelligence.com/content/spotify-stays-strong-through-rocky-2022-podcasts-have-rough-road-ahead\n",
      "Response code: 200\n",
      "Reponse Message: OK\n",
      "Added 8 documents to the database\n",
      "\n",
      "Title: Music subscriber market shares 2022\n",
      "Link: https://midiaresearch.com/blog/music-subscriber-market-shares-2022\n",
      "Response code: 200\n",
      "Reponse Message: OK\n",
      "Added 13 documents to the database\n",
      "\n",
      "Title: Global music streaming subscribers 2022\n",
      "Link: https://www.statista.com/statistics/653926/music-streaming-service-subscriber-share/\n",
      "Response code: 200\n",
      "Reponse Message: OK\n",
      "Added 15 documents to the database\n",
      "\n",
      "Title: Spotify Stats 2023 — Subscribers, Revenue & Other Insights\n",
      "Link: https://www.demandsage.com/spotify-stats/\n",
      "Response code: 403\n",
      "Reponse Message: Forbidden\n",
      "\n",
      "Title: Major record company market share on Spotify fell again in ...\n",
      "Link: https://www.musicbusinessworldwide.com/major-record-company-market-share-on-spotify-fell-again-in-2022-as-indie-tracks-flooded-the-service/\n",
      "Response code: 200\n",
      "Reponse Message: OK\n",
      "Added 20 documents to the database\n",
      "\n",
      "Title: Spotify SWOT Analysis 2022: Is the Freemium model a ...\n",
      "Link: https://pestleanalysis.com/spotify-swot-analysis/\n"
     ]
    },
    {
     "name": "stderr",
     "output_type": "stream",
     "text": [
      "Created a chunk of size 1051, which is longer than the specified 1000\n"
     ]
    },
    {
     "name": "stdout",
     "output_type": "stream",
     "text": [
      "Response code: 403\n",
      "Reponse Message: Forbidden\n",
      "\n",
      "Title: Spotify Rebounds\n",
      "Link: https://www.forbes.com/sites/forrester/2022/04/28/spotify-rebounds/\n",
      "Response code: 200\n",
      "Reponse Message: OK\n",
      "Added 24 documents to the database\n",
      "\n",
      "Title: Spotify Stock (NYSE: SPOT) Dropped By Almost 70% In 2022\n",
      "Link: https://www.digitalmusicnews.com/2022/12/28/spotify-stock-december-2022-analysis/\n",
      "Response code: 403\n",
      "Reponse Message: Forbidden\n",
      "\n"
     ]
    }
   ],
   "source": [
    "results_condensed = [(result['title'], result['link']) for result in results['organic_results']]\n",
    "\n",
    "content_p = \"\"\n",
    "count_p = 0\n",
    "\n",
    "text_splitter = CharacterTextSplitter(chunk_size=1000, chunk_overlap=0)\n",
    "\n",
    "for title, link in results_condensed:\n",
    "    print(f\"Title: {title}\")\n",
    "    print(f\"Link: {link}\")\n",
    "\n",
    "    response = requests.get(link)\n",
    "    print(f\"Response code: {response.status_code}\")\n",
    "    print(f\"Reponse Message: {http_responses[response.status_code]}\")\n",
    "    if response.status_code != 200:\n",
    "        print()\n",
    "        continue\n",
    "\n",
    "    soup = BeautifulSoup(response.text, 'html.parser')\n",
    "    webpage = \"\"\n",
    "    webpage += f'## {title}' + \"\\n\"\n",
    "\n",
    "    content_p += f'## {title}' + \"\\n\"\n",
    "    for p in soup.find_all('p'):\n",
    "        paragraph = p.get_text(separator=' ')\n",
    "\n",
    "        if len(paragraph) > 100:\n",
    "            webpage += paragraph\n",
    "            content_p += paragraph\n",
    "            content_p += \"\\n\\n\"\n",
    "            count_p += 1\n",
    "\n",
    "    doc = text_splitter.create_documents(texts=[content_p], metadatas=[{\"source\": link, \"title\": title}])\n",
    "    ids = vectordb.add_documents(documents=[*doc])\n",
    "    print(f\"Added {len(ids)} documents to the database\")\n",
    "    print()\n",
    "\n",
    "    content_p += \"\\n-------------------------------------------------------------------------------------\\n\""
   ]
  },
  {
   "cell_type": "code",
   "execution_count": 5,
   "metadata": {},
   "outputs": [],
   "source": [
    "# display(Markdown(content_p))"
   ]
  },
  {
   "cell_type": "code",
   "execution_count": 23,
   "metadata": {},
   "outputs": [],
   "source": [
    "retriever = vectordb.as_retriever()\n",
    "\n",
    "qa_chain = RetrievalQAWithSourcesChain.from_chain_type(llm=llm,\n",
    "                                                       chain_type=\"stuff\",\n",
    "                                                       retriever=retriever,)\n",
    "\n",
    "qa_chain_chat = ConversationalRetrievalChain.from_llm(llm=llm,\n",
    "                                                      chain_type=\"stuff\",\n",
    "                                                      retriever=retriever,)"
   ]
  },
  {
   "cell_type": "code",
   "execution_count": 25,
   "metadata": {},
   "outputs": [
    {
     "ename": "ValueError",
     "evalue": "Unsupported chat history format: <class 'str'>. Full chat history: User: First, list out current and potential competitors. Current competitors should include already established businesses/products. Potential competitors should include products and businesses that aren’t yet popular or are still under development/ beta version. Also include major or minor differences between our product and the competitor products you have identified. Analyze how aspects of our product or competitor products are better for that particular aspect. How do the target customers different? Does our product better cater to current trends and expectations of the users? How? What should the product include to meet those trends and expectations.\n        \n        AI: | Competitor | User Base (in millions) | User Region | Different Features Supported | Pricing Tiers | Unique Selling Point |\n|------------|-------------------------|-------------|-----------------------------|---------------|----------------------|\n| Spotify    | 345                     | Global      | Personalized playlists, Podcasts, Social sharing | Free with ads, Premium ($9.99/month), Family ($14.99/month) | Extensive music library, personalized playlists |\n| Apple Music| 72                      | Global      | Personalized playlists, Integration with Apple devices, Music videos | Individual ($9.99/month), Family ($14.99/month), Student ($4.99/month) | Seamless integration with Apple devices |\n| Pandora    | 58                      | USA, Australia, New Zealand | Personalized radio stations, Podcasts | Free with ads, Plus ($4.99/month), Premium ($9.99/month) | Music genome project for personalized radio |\n| YouTube Music | 30                  | Global      | Personalized playlists, Music videos, Integration with YouTube | Free with ads, Premium ($9.99/month), Family ($14.99/month) | Integration with YouTube, music videos |\n| Tidal      | 3                       | Global      | High-quality audio, Exclusive content, Music videos | Premium ($9.99/month), HiFi ($19.99/month), Family plans available | High-quality audio, exclusive content |\n ",
     "output_type": "error",
     "traceback": [
      "\u001b[1;31m---------------------------------------------------------------------------\u001b[0m",
      "\u001b[1;31mValueError\u001b[0m                                Traceback (most recent call last)",
      "Cell \u001b[1;32mIn[25], line 1\u001b[0m\n\u001b[1;32m----> 1\u001b[0m out \u001b[39m=\u001b[39m qa_chain_chat(\n\u001b[0;32m      2\u001b[0m     {\n\u001b[0;32m      3\u001b[0m         \u001b[39m\"\u001b[39;49m\u001b[39mchat_history\u001b[39;49m\u001b[39m\"\u001b[39;49m: \u001b[39m\"\"\"\u001b[39;49m\u001b[39mUser: First, list out current and potential competitors. Current competitors should include already established businesses/products. Potential competitors should include products and businesses that aren’t yet popular or are still under development/ beta version. Also include major or minor differences between our product and the competitor products you have identified. Analyze how aspects of our product or competitor products are better for that particular aspect. How do the target customers different? Does our product better cater to current trends and expectations of the users? How? What should the product include to meet those trends and expectations.\u001b[39;49m\n\u001b[0;32m      4\u001b[0m \u001b[39m        \u001b[39;49m\n\u001b[0;32m      5\u001b[0m \u001b[39m        AI: \u001b[39;49m\u001b[39m\\\u001b[39;49;00m\n\u001b[0;32m      6\u001b[0m \u001b[39m| Competitor | User Base (in millions) | User Region | Different Features Supported | Pricing Tiers | Unique Selling Point |\u001b[39;49m\n\u001b[0;32m      7\u001b[0m \u001b[39m|------------|-------------------------|-------------|-----------------------------|---------------|----------------------|\u001b[39;49m\n\u001b[0;32m      8\u001b[0m \u001b[39m| Spotify    | 345                     | Global      | Personalized playlists, Podcasts, Social sharing | Free with ads, Premium ($9.99/month), Family ($14.99/month) | Extensive music library, personalized playlists |\u001b[39;49m\n\u001b[0;32m      9\u001b[0m \u001b[39m| Apple Music| 72                      | Global      | Personalized playlists, Integration with Apple devices, Music videos | Individual ($9.99/month), Family ($14.99/month), Student ($4.99/month) | Seamless integration with Apple devices |\u001b[39;49m\n\u001b[0;32m     10\u001b[0m \u001b[39m| Pandora    | 58                      | USA, Australia, New Zealand | Personalized radio stations, Podcasts | Free with ads, Plus ($4.99/month), Premium ($9.99/month) | Music genome project for personalized radio |\u001b[39;49m\n\u001b[0;32m     11\u001b[0m \u001b[39m| YouTube Music | 30                  | Global      | Personalized playlists, Music videos, Integration with YouTube | Free with ads, Premium ($9.99/month), Family ($14.99/month) | Integration with YouTube, music videos |\u001b[39;49m\n\u001b[0;32m     12\u001b[0m \u001b[39m| Tidal      | 3                       | Global      | High-quality audio, Exclusive content, Music videos | Premium ($9.99/month), HiFi ($19.99/month), Family plans available | High-quality audio, exclusive content |\u001b[39;49m\n\u001b[0;32m     13\u001b[0m \u001b[39m\"\"\"\u001b[39;49m,\n\u001b[0;32m     14\u001b[0m         \u001b[39m\"\u001b[39;49m\u001b[39mquestion\u001b[39;49m\u001b[39m\"\u001b[39;49m: \u001b[39m\"\u001b[39;49m\u001b[39mRe-generate the table with the new information about Spotify\u001b[39;49m\u001b[39m\"\u001b[39;49m\n\u001b[0;32m     15\u001b[0m     }\n\u001b[0;32m     16\u001b[0m )\n",
      "File \u001b[1;32mc:\\Users\\ariha\\Desktop\\Synap-Labs-official\\productx\\synap_labs_official_env\\lib\\site-packages\\langchain\\chains\\base.py:145\u001b[0m, in \u001b[0;36mChain.__call__\u001b[1;34m(self, inputs, return_only_outputs, callbacks, include_run_info)\u001b[0m\n\u001b[0;32m    143\u001b[0m \u001b[39mexcept\u001b[39;00m (\u001b[39mKeyboardInterrupt\u001b[39;00m, \u001b[39mException\u001b[39;00m) \u001b[39mas\u001b[39;00m e:\n\u001b[0;32m    144\u001b[0m     run_manager\u001b[39m.\u001b[39mon_chain_error(e)\n\u001b[1;32m--> 145\u001b[0m     \u001b[39mraise\u001b[39;00m e\n\u001b[0;32m    146\u001b[0m run_manager\u001b[39m.\u001b[39mon_chain_end(outputs)\n\u001b[0;32m    147\u001b[0m final_outputs: Dict[\u001b[39mstr\u001b[39m, Any] \u001b[39m=\u001b[39m \u001b[39mself\u001b[39m\u001b[39m.\u001b[39mprep_outputs(\n\u001b[0;32m    148\u001b[0m     inputs, outputs, return_only_outputs\n\u001b[0;32m    149\u001b[0m )\n",
      "File \u001b[1;32mc:\\Users\\ariha\\Desktop\\Synap-Labs-official\\productx\\synap_labs_official_env\\lib\\site-packages\\langchain\\chains\\base.py:139\u001b[0m, in \u001b[0;36mChain.__call__\u001b[1;34m(self, inputs, return_only_outputs, callbacks, include_run_info)\u001b[0m\n\u001b[0;32m    133\u001b[0m run_manager \u001b[39m=\u001b[39m callback_manager\u001b[39m.\u001b[39mon_chain_start(\n\u001b[0;32m    134\u001b[0m     {\u001b[39m\"\u001b[39m\u001b[39mname\u001b[39m\u001b[39m\"\u001b[39m: \u001b[39mself\u001b[39m\u001b[39m.\u001b[39m\u001b[39m__class__\u001b[39m\u001b[39m.\u001b[39m\u001b[39m__name__\u001b[39m},\n\u001b[0;32m    135\u001b[0m     inputs,\n\u001b[0;32m    136\u001b[0m )\n\u001b[0;32m    137\u001b[0m \u001b[39mtry\u001b[39;00m:\n\u001b[0;32m    138\u001b[0m     outputs \u001b[39m=\u001b[39m (\n\u001b[1;32m--> 139\u001b[0m         \u001b[39mself\u001b[39;49m\u001b[39m.\u001b[39;49m_call(inputs, run_manager\u001b[39m=\u001b[39;49mrun_manager)\n\u001b[0;32m    140\u001b[0m         \u001b[39mif\u001b[39;00m new_arg_supported\n\u001b[0;32m    141\u001b[0m         \u001b[39melse\u001b[39;00m \u001b[39mself\u001b[39m\u001b[39m.\u001b[39m_call(inputs)\n\u001b[0;32m    142\u001b[0m     )\n\u001b[0;32m    143\u001b[0m \u001b[39mexcept\u001b[39;00m (\u001b[39mKeyboardInterrupt\u001b[39;00m, \u001b[39mException\u001b[39;00m) \u001b[39mas\u001b[39;00m e:\n\u001b[0;32m    144\u001b[0m     run_manager\u001b[39m.\u001b[39mon_chain_error(e)\n",
      "File \u001b[1;32mc:\\Users\\ariha\\Desktop\\Synap-Labs-official\\productx\\synap_labs_official_env\\lib\\site-packages\\langchain\\chains\\conversational_retrieval\\base.py:100\u001b[0m, in \u001b[0;36mBaseConversationalRetrievalChain._call\u001b[1;34m(self, inputs, run_manager)\u001b[0m\n\u001b[0;32m     98\u001b[0m question \u001b[39m=\u001b[39m inputs[\u001b[39m\"\u001b[39m\u001b[39mquestion\u001b[39m\u001b[39m\"\u001b[39m]\n\u001b[0;32m     99\u001b[0m get_chat_history \u001b[39m=\u001b[39m \u001b[39mself\u001b[39m\u001b[39m.\u001b[39mget_chat_history \u001b[39mor\u001b[39;00m _get_chat_history\n\u001b[1;32m--> 100\u001b[0m chat_history_str \u001b[39m=\u001b[39m get_chat_history(inputs[\u001b[39m\"\u001b[39;49m\u001b[39mchat_history\u001b[39;49m\u001b[39m\"\u001b[39;49m])\n\u001b[0;32m    102\u001b[0m \u001b[39mif\u001b[39;00m chat_history_str:\n\u001b[0;32m    103\u001b[0m     callbacks \u001b[39m=\u001b[39m _run_manager\u001b[39m.\u001b[39mget_child()\n",
      "File \u001b[1;32mc:\\Users\\ariha\\Desktop\\Synap-Labs-official\\productx\\synap_labs_official_env\\lib\\site-packages\\langchain\\chains\\conversational_retrieval\\base.py:45\u001b[0m, in \u001b[0;36m_get_chat_history\u001b[1;34m(chat_history)\u001b[0m\n\u001b[0;32m     43\u001b[0m         buffer \u001b[39m+\u001b[39m\u001b[39m=\u001b[39m \u001b[39m\"\u001b[39m\u001b[39m\\n\u001b[39;00m\u001b[39m\"\u001b[39m \u001b[39m+\u001b[39m \u001b[39m\"\u001b[39m\u001b[39m\\n\u001b[39;00m\u001b[39m\"\u001b[39m\u001b[39m.\u001b[39mjoin([human, ai])\n\u001b[0;32m     44\u001b[0m     \u001b[39melse\u001b[39;00m:\n\u001b[1;32m---> 45\u001b[0m         \u001b[39mraise\u001b[39;00m \u001b[39mValueError\u001b[39;00m(\n\u001b[0;32m     46\u001b[0m             \u001b[39mf\u001b[39m\u001b[39m\"\u001b[39m\u001b[39mUnsupported chat history format: \u001b[39m\u001b[39m{\u001b[39;00m\u001b[39mtype\u001b[39m(dialogue_turn)\u001b[39m}\u001b[39;00m\u001b[39m.\u001b[39m\u001b[39m\"\u001b[39m\n\u001b[0;32m     47\u001b[0m             \u001b[39mf\u001b[39m\u001b[39m\"\u001b[39m\u001b[39m Full chat history: \u001b[39m\u001b[39m{\u001b[39;00mchat_history\u001b[39m}\u001b[39;00m\u001b[39m \u001b[39m\u001b[39m\"\u001b[39m\n\u001b[0;32m     48\u001b[0m         )\n\u001b[0;32m     49\u001b[0m \u001b[39mreturn\u001b[39;00m buffer\n",
      "\u001b[1;31mValueError\u001b[0m: Unsupported chat history format: <class 'str'>. Full chat history: User: First, list out current and potential competitors. Current competitors should include already established businesses/products. Potential competitors should include products and businesses that aren’t yet popular or are still under development/ beta version. Also include major or minor differences between our product and the competitor products you have identified. Analyze how aspects of our product or competitor products are better for that particular aspect. How do the target customers different? Does our product better cater to current trends and expectations of the users? How? What should the product include to meet those trends and expectations.\n        \n        AI: | Competitor | User Base (in millions) | User Region | Different Features Supported | Pricing Tiers | Unique Selling Point |\n|------------|-------------------------|-------------|-----------------------------|---------------|----------------------|\n| Spotify    | 345                     | Global      | Personalized playlists, Podcasts, Social sharing | Free with ads, Premium ($9.99/month), Family ($14.99/month) | Extensive music library, personalized playlists |\n| Apple Music| 72                      | Global      | Personalized playlists, Integration with Apple devices, Music videos | Individual ($9.99/month), Family ($14.99/month), Student ($4.99/month) | Seamless integration with Apple devices |\n| Pandora    | 58                      | USA, Australia, New Zealand | Personalized radio stations, Podcasts | Free with ads, Plus ($4.99/month), Premium ($9.99/month) | Music genome project for personalized radio |\n| YouTube Music | 30                  | Global      | Personalized playlists, Music videos, Integration with YouTube | Free with ads, Premium ($9.99/month), Family ($14.99/month) | Integration with YouTube, music videos |\n| Tidal      | 3                       | Global      | High-quality audio, Exclusive content, Music videos | Premium ($9.99/month), HiFi ($19.99/month), Family plans available | High-quality audio, exclusive content |\n "
     ]
    }
   ],
   "source": [
    "out = qa_chain_chat(\n",
    "    {\n",
    "        \"chat_history\": \"\"\"User: First, list out current and potential competitors. Current competitors should include already established businesses/products. Potential competitors should include products and businesses that aren’t yet popular or are still under development/ beta version. Also include major or minor differences between our product and the competitor products you have identified. Analyze how aspects of our product or competitor products are better for that particular aspect. How do the target customers different? Does our product better cater to current trends and expectations of the users? How? What should the product include to meet those trends and expectations.\n",
    "        \n",
    "        AI: \\\n",
    "| Competitor | User Base (in millions) | User Region | Different Features Supported | Pricing Tiers | Unique Selling Point |\n",
    "|------------|-------------------------|-------------|-----------------------------|---------------|----------------------|\n",
    "| Spotify    | 345                     | Global      | Personalized playlists, Podcasts, Social sharing | Free with ads, Premium ($9.99/month), Family ($14.99/month) | Extensive music library, personalized playlists |\n",
    "| Apple Music| 72                      | Global      | Personalized playlists, Integration with Apple devices, Music videos | Individual ($9.99/month), Family ($14.99/month), Student ($4.99/month) | Seamless integration with Apple devices |\n",
    "| Pandora    | 58                      | USA, Australia, New Zealand | Personalized radio stations, Podcasts | Free with ads, Plus ($4.99/month), Premium ($9.99/month) | Music genome project for personalized radio |\n",
    "| YouTube Music | 30                  | Global      | Personalized playlists, Music videos, Integration with YouTube | Free with ads, Premium ($9.99/month), Family ($14.99/month) | Integration with YouTube, music videos |\n",
    "| Tidal      | 3                       | Global      | High-quality audio, Exclusive content, Music videos | Premium ($9.99/month), HiFi ($19.99/month), Family plans available | High-quality audio, exclusive content |\n",
    "\"\"\",\n",
    "        \"question\": \"Re-generate the table with the new information about Spotify\"\n",
    "    }\n",
    ")"
   ]
  },
  {
   "cell_type": "code",
   "execution_count": 11,
   "metadata": {},
   "outputs": [
    {
     "name": "stdout",
     "output_type": "stream",
     "text": [
      "\n",
      "\n",
      "| Competitor | User Base (in millions) | User Region | Different Features Supported | Pricing Tiers | Unique Selling Point |\n",
      "|------------|-------------------------|-------------|-----------------------------|---------------|----------------------|\n",
      "| Spotify    | 489                     | Global      | Personalized playlists, Podcasts, Social sharing | Free with ads, Premium ($9.99/month), Family ($14.99/month) | Extensive music library, personalized playlists |\n",
      "| Apple Music| 72                      | Global      | Personalized playlists, Integration with Apple devices, Music videos | Individual ($9.99/month), Family ($14.99/month), Student ($4.99/month) | Seamless integration with Apple devices |\n",
      "| Pandora    | 58                      | USA, Australia, New Zealand | Personalized radio stations, Podcasts | Free with ads, Plus ($4.99/month), Premium ($9.99/month) | Music genome project for personalized radio |\n",
      "| YouTube Music | 30                  | Global      | Personalized playlists, Music videos, Integration with YouTube | Free with ads, Premium ($9.99/month), Family ($14.99/month) | Integration with YouTube, music videos |\n",
      "\n"
     ]
    }
   ],
   "source": [
    "query = \"\"\"\\\n",
    "The following table was generated by you to show the competitive analysis in the music app market:\n",
    "\n",
    "| Competitor | User Base (in millions) | User Region | Different Features Supported | Pricing Tiers | Unique Selling Point |\n",
    "|------------|-------------------------|-------------|-----------------------------|---------------|----------------------|\n",
    "| Spotify    | 345                     | Global      | Personalized playlists, Podcasts, Social sharing | Free with ads, Premium ($9.99/month), Family ($14.99/month) | Extensive music library, personalized playlists |\n",
    "| Apple Music| 72                      | Global      | Personalized playlists, Integration with Apple devices, Music videos | Individual ($9.99/month), Family ($14.99/month), Student ($4.99/month) | Seamless integration with Apple devices |\n",
    "| Pandora    | 58                      | USA, Australia, New Zealand | Personalized radio stations, Podcasts | Free with ads, Plus ($4.99/month), Premium ($9.99/month) | Music genome project for personalized radio |\n",
    "| YouTube Music | 30                  | Global      | Personalized playlists, Music videos, Integration with YouTube | Free with ads, Premium ($9.99/month), Family ($14.99/month) | Integration with YouTube, music videos |\n",
    "| Tidal      | 3                       | Global      | High-quality audio, Exclusive content, Music videos | Premium ($9.99/month), HiFi ($19.99/month), Family plans available | High-quality audio, exclusive content |\n",
    "\n",
    "Re-generate the table with the new information about Spotify.\n",
    "\"\"\"\n",
    "\n",
    "llm_response = qa_chain(query)\n",
    "\n",
    "print(llm_response['answer'])\n",
    "print(llm_response['sources'])"
   ]
  },
  {
   "cell_type": "code",
   "execution_count": 8,
   "metadata": {},
   "outputs": [
    {
     "name": "stdout",
     "output_type": "stream",
     "text": [
      "Customized Research & Analysis projects:\n",
      "                \n",
      "                            \n",
      "\n",
      "\n",
      "                                \n",
      "                    Get quick analyses with our professional research service\n",
      "                \n",
      "                            \n",
      "\n",
      "\n",
      "                                The best of the best: the portal for top lists & rankings:\n",
      "                            \n",
      "\n",
      "\n",
      "                        Strategy and business building for the data-driven economy:\n",
      "                    \n",
      "\n",
      "Industry-specific and extensively researched technical data (partially from exclusive partnerships).  A paid subscription is required for full access.\n",
      "\n",
      "\n",
      "                                Show sources information\n",
      "                             \n",
      "                                Show publisher information\n",
      "                             \n",
      "                                Use Ask Statista Research Service\n"
     ]
    }
   ],
   "source": [
    "query = \"Name 3 devices that help you monitor your plant's health\"\n",
    "\n",
    "print(vectordb.similarity_search(query, k=5)[0].page_content)"
   ]
  }
 ],
 "metadata": {
  "kernelspec": {
   "display_name": "synap_labs_official_env",
   "language": "python",
   "name": "python3"
  },
  "language_info": {
   "codemirror_mode": {
    "name": "ipython",
    "version": 3
   },
   "file_extension": ".py",
   "mimetype": "text/x-python",
   "name": "python",
   "nbconvert_exporter": "python",
   "pygments_lexer": "ipython3",
   "version": "3.10.5"
  },
  "orig_nbformat": 4
 },
 "nbformat": 4,
 "nbformat_minor": 2
}
