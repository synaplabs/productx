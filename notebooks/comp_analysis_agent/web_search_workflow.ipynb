{
 "cells": [
  {
   "cell_type": "code",
   "execution_count": 80,
   "metadata": {},
   "outputs": [],
   "source": [
    "from serpapi import GoogleSearch\n",
    "import requests\n",
    "from bs4 import BeautifulSoup\n",
    "import os\n",
    "from IPython.display import display, Markdown\n",
    "from http.client import responses as http_responses\n",
    "\n",
    "from langchain.llms import OpenAI\n",
    "from langchain.document_loaders.base import Document\n",
    "from langchain.embeddings.openai import OpenAIEmbeddings\n",
    "from langchain.vectorstores import Chroma\n",
    "from langchain.text_splitter import CharacterTextSplitter, RecursiveCharacterTextSplitter\n",
    "from langchain.chains import RetrievalQA, RetrievalQAWithSourcesChain"
   ]
  },
  {
   "cell_type": "code",
   "execution_count": 82,
   "metadata": {},
   "outputs": [
    {
     "name": "stdout",
     "output_type": "stream",
     "text": [
      "Number of organic results: 9\n"
     ]
    }
   ],
   "source": [
    "search_query = \"device that attaches to the soil and relays the plant's needs to the phone app directly\"\n",
    "\n",
    "llm = OpenAI(\n",
    "    model=\"text-davinci-003\",\n",
    "    temperature=0,\n",
    "    openai_api_key=os.environ[\"OPENAI_API_KEY\"]\n",
    ")\n",
    "\n",
    "search = GoogleSearch({\n",
    "    \"q\": search_query,\n",
    "    \"location\": \"Mumbai, Maharashtra, India\",\n",
    "    \"api_key\": os.environ[\"SERPAPI_API_KEY\"]\n",
    "})\n",
    "\n",
    "results = search.get_dict()\n",
    "\n",
    "if \"error\" in results:\n",
    "    print(f\"Error: {results['error']}\")\n",
    "else:\n",
    "    print(f\"Number of organic results: {len(results['organic_results'])}\")\n",
    "\n",
    "vectordb = Chroma(embedding_function=OpenAIEmbeddings())"
   ]
  },
  {
   "cell_type": "code",
   "execution_count": 83,
   "metadata": {},
   "outputs": [
    {
     "name": "stdout",
     "output_type": "stream",
     "text": [
      "Title: Plug in your plants with these 15 connected garden ...\n",
      "Link: https://www.cnet.com/pictures/plug-in-your-plants-with-these-connected-garden-gadgets-pictures/\n",
      "Response code: 200\n",
      "Reponse Message: OK\n",
      "Added 7 documents to the database\n",
      "\n",
      "Title: Plant Link: Listen to your plants by Oso Technologies\n",
      "Link: https://www.kickstarter.com/projects/1387729422/plant-link-listen-to-your-plants\n",
      "Response code: 403\n",
      "Reponse Message: Forbidden\n",
      "\n",
      "Title: Amazon.com: Plant Monitor Soil Test Kit,Flower Care ...\n",
      "Link: https://www.amazon.com/WANFEI-Intelligent-Bluetooth-Fertility-Temperature/dp/B09PV3T356\n",
      "Response code: 503\n",
      "Reponse Message: Service Unavailable\n",
      "\n",
      "Title: Arduino based Automatic Plant Irrigation System with ...\n",
      "Link: https://circuitdigest.com/microcontroller-projects/arduino-automatic-plant-watering-system\n",
      "Response code: 200\n",
      "Reponse Message: OK\n",
      "Added 27 documents to the database\n",
      "\n",
      "Title: Wifi Plant Watering Sensor System\n",
      "Link: https://www.postscapes.com/wireless-plant-sensors/\n",
      "Response code: 200\n",
      "Reponse Message: OK\n",
      "Added 33 documents to the database\n",
      "\n",
      "Title: Automatic Plant Watering System Using a Micro:bit\n",
      "Link: https://www.instructables.com/Automatic-Plant-Watering-System-Using-a-Microbit/\n",
      "Response code: 200\n",
      "Reponse Message: OK\n",
      "Added 42 documents to the database\n",
      "\n",
      "Title: Smart Farming: Internet of Things (IoT)-Based Sustainable ...\n",
      "Link: https://www.mdpi.com/2077-0472/12/10/1745\n"
     ]
    },
    {
     "name": "stderr",
     "output_type": "stream",
     "text": [
      "Created a chunk of size 1056, which is longer than the specified 1000\n"
     ]
    },
    {
     "name": "stdout",
     "output_type": "stream",
     "text": [
      "Response code: 200\n",
      "Reponse Message: OK\n",
      "Added 47 documents to the database\n",
      "\n",
      "Title: Automated Plant Watering System\n",
      "Link: https://www.ijert.org/research/automated-plant-watering-system-IJERTCONV5IS18012.pdf\n"
     ]
    },
    {
     "name": "stderr",
     "output_type": "stream",
     "text": [
      "Created a chunk of size 1056, which is longer than the specified 1000\n"
     ]
    },
    {
     "name": "stdout",
     "output_type": "stream",
     "text": [
      "Response code: 200\n",
      "Reponse Message: OK\n",
      "Added 47 documents to the database\n",
      "\n",
      "Title: Resilient and Responsible Smart Cities\n",
      "Link: https://books.google.com/books?id=aDV9EAAAQBAJ&pg=PA88&lpg=PA88&dq=device+that+attaches+to+the+soil+and+relays+the+plant's+needs+to+the+phone+app+directly&source=bl&ots=_3bwo3kOqx&sig=ACfU3U3aiGojD36qkgZy3o2B5Z3DR7_BnA&hl=en&sa=X&ved=2ahUKEwikusWByq-AAxX6MVkFHYqsDjkQ6AF6BAhAEAM\n"
     ]
    },
    {
     "name": "stderr",
     "output_type": "stream",
     "text": [
      "Created a chunk of size 1056, which is longer than the specified 1000\n"
     ]
    },
    {
     "name": "stdout",
     "output_type": "stream",
     "text": [
      "Response code: 200\n",
      "Reponse Message: OK\n",
      "Added 47 documents to the database\n",
      "\n"
     ]
    }
   ],
   "source": [
    "results_condensed = [(result['title'], result['link']) for result in results['organic_results']]\n",
    "\n",
    "content_p = \"\"\n",
    "count_p = 0\n",
    "\n",
    "text_splitter = CharacterTextSplitter(chunk_size=1000, chunk_overlap=0)\n",
    "\n",
    "for title, link in results_condensed:\n",
    "    print(f\"Title: {title}\")\n",
    "    print(f\"Link: {link}\")\n",
    "\n",
    "    response = requests.get(link)\n",
    "    print(f\"Response code: {response.status_code}\")\n",
    "    print(f\"Reponse Message: {http_responses[response.status_code]}\")\n",
    "    if response.status_code != 200:\n",
    "        print()\n",
    "        continue\n",
    "\n",
    "    soup = BeautifulSoup(response.text, 'html.parser')\n",
    "    webpage = \"\"\n",
    "    webpage += f'## {title}' + \"\\n\"\n",
    "\n",
    "    content_p += f'## {title}' + \"\\n\"\n",
    "    for p in soup.find_all('p'):\n",
    "        paragraph = p.get_text(separator=' ')\n",
    "\n",
    "        if len(paragraph) > 100:\n",
    "            webpage += paragraph\n",
    "            content_p += paragraph\n",
    "            content_p += \"\\n\\n\"\n",
    "            count_p += 1\n",
    "\n",
    "    doc = text_splitter.create_documents(texts=[content_p], metadatas=[{\"source\": link, \"title\": title}])\n",
    "    ids = vectordb.add_documents(documents=[*doc])\n",
    "    print(f\"Added {len(ids)} documents to the database\")\n",
    "    print()\n",
    "\n",
    "    content_p += \"\\n-------------------------------------------------------------------------------------\\n\""
   ]
  },
  {
   "cell_type": "code",
   "execution_count": null,
   "metadata": {},
   "outputs": [],
   "source": [
    "# display(Markdown(content_p))"
   ]
  },
  {
   "cell_type": "code",
   "execution_count": 90,
   "metadata": {},
   "outputs": [],
   "source": [
    "retriever = vectordb.as_retriever()\n",
    "\n",
    "qa_chain = RetrievalQAWithSourcesChain.from_chain_type(llm=llm,\n",
    "                                                       chain_type=\"stuff\",\n",
    "                                                       retriever=retriever,)"
   ]
  },
  {
   "cell_type": "code",
   "execution_count": 91,
   "metadata": {},
   "outputs": [
    {
     "name": "stdout",
     "output_type": "stream",
     "text": [
      " Three devices that help you monitor your plant's health are the Arduino Automatic Plant Watering System, Wireless Plant Sensors, and an Automatic Plant Watering System Using a Microbit. The Arduino Automatic Plant Watering System can be programmed to water plants based on the weather, the Wireless Plant Sensors can take readings from the soil, and the Automatic Plant Watering System Using a Microbit can attach to the soil and relay the plant's needs to a phone app directly.\n",
      "\n",
      "\n",
      "Circuit Digest, \"Arduino Automatic Plant Watering System\", https://circuitdigest.com/microcontroller-projects/arduino-automatic-plant-watering-system\n",
      "Postscapes, \"Wireless Plant Sensors\", https://www.postscapes.com/wireless-plant-sensors/\n",
      "Instructables, \"Automatic Plant Watering System Using a Microbit\", https://www.instructables.com/Automatic-Plant-Watering-System-Using-a-Microbit/\n",
      "Google Books, \"Automatic Plant Watering System Using a Microbit\", https://books.google.com/books?id=aDV9EAAAQBAJ&pg=\n"
     ]
    }
   ],
   "source": [
    "query = \"Name 3 devices that help you monitor your plant's health, along with unique features of each\"\n",
    "\n",
    "llm_response = qa_chain(query)\n",
    "\n",
    "print(llm_response['answer'])\n",
    "print(llm_response['sources'])"
   ]
  },
  {
   "cell_type": "code",
   "execution_count": 96,
   "metadata": {},
   "outputs": [
    {
     "name": "stdout",
     "output_type": "stream",
     "text": [
      "The first type of device we'll look at: plant sensors. You place these devices into the dirt near your plant, where they keep a close eye on growing conditions and send you recommendations accordingly. The Koubachi Wi-Fi Plant Sensor is the most expensive one we've seen -- it's $100 for the indoor version and $130 for the weather-proofed one -- but it measures moisture, light and temperature and sends that all directly to the cloud via Wi-Fi, letting you check in on your plant from anywhere.\n",
      "\n",
      "The $60 Parrot Flower Power brings the price tag down quite a bit. It also measures everything Koubachi does, and adds readings for fertilizer. However, since it's limited to Bluetooth, it doesn't have Koubachi's reach, meaning you'll need to be relatively close to your plants in order to get up-to-date readings.\n"
     ]
    }
   ],
   "source": [
    "query = \"Name 3 devices that help you monitor your plant's health\"\n",
    "\n",
    "print(vectordb.similarity_search(query, k=5)[0].page_content)"
   ]
  }
 ],
 "metadata": {
  "kernelspec": {
   "display_name": "synap_labs_official_env",
   "language": "python",
   "name": "python3"
  },
  "language_info": {
   "codemirror_mode": {
    "name": "ipython",
    "version": 3
   },
   "file_extension": ".py",
   "mimetype": "text/x-python",
   "name": "python",
   "nbconvert_exporter": "python",
   "pygments_lexer": "ipython3",
   "version": "3.10.5"
  },
  "orig_nbformat": 4
 },
 "nbformat": 4,
 "nbformat_minor": 2
}
