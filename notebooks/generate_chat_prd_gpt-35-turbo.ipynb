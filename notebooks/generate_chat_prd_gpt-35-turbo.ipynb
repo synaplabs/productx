{
 "cells": [
  {
   "cell_type": "code",
   "execution_count": 10,
   "metadata": {},
   "outputs": [],
   "source": [
    "# ability to give a gift to a friend on instagram\n",
    "# ability to create tweets-like feature on instagram\n",
    "# create a marketplace for educators to sell their courses on instagram"
   ]
  },
  {
   "cell_type": "code",
   "execution_count": 11,
   "metadata": {},
   "outputs": [],
   "source": [
    "import langchain\n",
    "from langchain.chat_models import ChatOpenAI\n",
    "from langchain.chains import ConversationChain, LLMChain\n",
    "from langchain.memory import ConversationBufferMemory\n",
    "from langchain.prompts import PromptTemplate\n",
    "from langchain.callbacks import get_openai_callback\n",
    "\n",
    "from IPython.display import display, Markdown"
   ]
  },
  {
   "cell_type": "code",
   "execution_count": 12,
   "metadata": {},
   "outputs": [],
   "source": [
    "string_template = \"\"\"\\\n",
    "You are a smart product manager who answers in a concise way. You have to help the user create a Product Requirement Document (PRD) based on the questions the user asks you. The user will ask you specific questions about each topic they want to be included in the PRD. \n",
    "\n",
    "You have to only answer the questions asked by the user, and not provide any additional information. This is a very important skill for a product manager, as they have to be concise and to the point. \n",
    "\n",
    "Format your responses in Markdown mode with each topic being the ##heading, and your answer being the content. Highlight important points in **bold**\n",
    "\n",
    "Current conversation:\n",
    "{history}\n",
    "Human: {input}\n",
    "AI: \"\"\"\n",
    "\n",
    "prompt = PromptTemplate(\n",
    "    template=string_template,\n",
    "    input_variables=[\"history\", \"input\"],\n",
    ")"
   ]
  },
  {
   "cell_type": "code",
   "execution_count": 13,
   "metadata": {},
   "outputs": [],
   "source": [
    "chat = ChatOpenAI(\n",
    "    model=\"gpt-3.5-turbo\",\n",
    "    temperature=0\n",
    ")\n",
    "\n",
    "memory = ConversationBufferMemory()\n",
    "\n",
    "chain = LLMChain(\n",
    "    llm=chat,\n",
    "    memory=memory,\n",
    "    prompt=prompt,\n",
    "    verbose=False\n",
    ")\n",
    "\n",
    "total_tokens = 0\n",
    "total_cost = 0.0"
   ]
  },
  {
   "cell_type": "code",
   "execution_count": 14,
   "metadata": {},
   "outputs": [
    {
     "data": {
      "text/markdown": [
       "Start generating the PRD."
      ],
      "text/plain": [
       "<IPython.core.display.Markdown object>"
      ]
     },
     "metadata": {},
     "output_type": "display_data"
    }
   ],
   "source": [
    "with get_openai_callback() as callback:\n",
    "\n",
    "    initial_output = chain.predict(\n",
    "        input=\"\"\"\\\n",
    "I want to add the following new feature:\n",
    "Instagram Threads.\n",
    "\n",
    "Feature description: A new app by Instagram that allows users to post tweet-like content.\n",
    "\n",
    "DO NOT START WRITING. WAIT FOR THE HUMAN TO WRITE \"Start generating the PRD\" BEFORE YOU START WRITING.\n",
    "\"\"\"\n",
    "    )\n",
    "\n",
    "    total_tokens += callback.total_tokens\n",
    "    total_cost += callback.total_cost\n",
    "\n",
    "display(Markdown(f\"{initial_output}\"))"
   ]
  },
  {
   "cell_type": "code",
   "execution_count": 15,
   "metadata": {},
   "outputs": [],
   "source": [
    "with get_openai_callback() as callback:\n",
    "\n",
    "    output = chain.predict(\n",
    "        input=\"\"\"\\\n",
    "Define the Purpose and Scope of this product. It should include how different groups of users across ages, genders, and geographies can use this product. Include an overview of the product. Why should one use this product? Define the target audience and stakeholders in detail. Also, include the rationale behind having the particular group as the target audience. Explain the gap it is trying to fill as well - how it is different from and better than other similar products?\n",
    "Start writing the PRD now. Each question that follows will be a section in the PRD. Please write the PRD in markdown format. Only include the question heading in the PRD, but do not include any other text from the question. End your response with \\n\n",
    "\"\"\"\n",
    "    )\n",
    "\n",
    "    total_tokens += callback.total_tokens\n",
    "    total_cost += callback.total_cost"
   ]
  },
  {
   "cell_type": "code",
   "execution_count": 16,
   "metadata": {},
   "outputs": [],
   "source": [
    "output += \"\\n\\n\"\n",
    "\n",
    "with get_openai_callback() as callback:\n",
    "        \n",
    "    output += chain.predict(\n",
    "        input=\"\"\"\\\n",
    "First, analyze whether the product objectives align with the company objectives. Think aloud. Explain your reasoning. Also, talk about why and how the business models of the product and company match. What company goals can the product help achieve - be it attracting customers, generating profits, or promoting the goodwill of the company? Also, explain how it would do this.\"\"\"\n",
    "    )\n",
    "\n",
    "    total_tokens += callback.total_tokens\n",
    "    total_cost += callback.total_cost"
   ]
  },
  {
   "cell_type": "code",
   "execution_count": 17,
   "metadata": {},
   "outputs": [],
   "source": [
    "output += \"\\n\\n\"\n",
    "\n",
    "with get_openai_callback() as callback:\n",
    "        \n",
    "    output += chain.predict(\n",
    "        input=\"\"\"\\\n",
    "First, list out current and potential competitors. Current competitors should include already established businesses/products. Potential competitors should include products and businesses that aren’t yet popular or are still under development/ beta version. Also include major or minor differences between our product and the competitor products you have identified. Analyze how aspects of our product or competitor products are better for that particular aspect. How do the target customers different? Does our product better cater to current trends and expectations of the users? How? What should the product include to meet those trends and expectations.\"\"\"\n",
    "    )\n",
    "\n",
    "    total_tokens += callback.total_tokens\n",
    "    total_cost += callback.total_cost"
   ]
  },
  {
   "cell_type": "code",
   "execution_count": 18,
   "metadata": {},
   "outputs": [],
   "source": [
    "output += \"\\n\\n\"\n",
    "\n",
    "with get_openai_callback() as callback:\n",
    "        \n",
    "    output += chain.predict(\n",
    "        input=\"\"\"\\\n",
    "Use all the above competitors to create a competitive analysis of these applications in a tabular form using the following points - user base, user region, different features supported, and pricing tiers. Don't limit yourself to these categories and think of other categories yourself. Return the output in a well-structured Markdown table\"\"\"\n",
    "    )\n",
    "\n",
    "    total_tokens += callback.total_tokens\n",
    "    total_cost += callback.total_cost"
   ]
  },
  {
   "cell_type": "code",
   "execution_count": 19,
   "metadata": {},
   "outputs": [],
   "source": [
    "output += \"\\n\\n\"\n",
    "\n",
    "with get_openai_callback() as callback:\n",
    "        \n",
    "    output += chain.predict(\n",
    "        input=\"\"\"\\\n",
    "What are some of the important features that should be implemented? Follow the MoSCoW format (Must have, Should have, Could have, Won’t have, along with why). How are we going to collect user inputs and use user data that we collect to make the product better and add other features?\"\"\"\n",
    "    )\n",
    "\n",
    "    total_tokens += callback.total_tokens\n",
    "    total_cost += callback.total_cost"
   ]
  },
  {
   "cell_type": "code",
   "execution_count": 20,
   "metadata": {},
   "outputs": [],
   "source": [
    "output += \"\\n\\n\"\n",
    "\n",
    "with get_openai_callback() as callback:\n",
    "        \n",
    "    output += chain.predict(\n",
    "        input=\"\"\"\\\n",
    "Define the quality of completeness required to be able to get to the MVP stage of this product.\"\"\"\n",
    "    )\n",
    "\n",
    "    total_tokens += callback.total_tokens\n",
    "    total_cost += callback.total_cost"
   ]
  },
  {
   "cell_type": "code",
   "execution_count": 21,
   "metadata": {},
   "outputs": [],
   "source": [
    "output += \"\\n\\n\"\n",
    "\n",
    "with get_openai_callback() as callback:\n",
    "        \n",
    "    output += chain.predict(\n",
    "        input=\"\"\"\\\n",
    "How do we define success in this product? What are the KPIs to look out for? How are they measured? Why do those KPIs matter? How are we going to use these KPIs to make the product better?\"\"\"\n",
    "    )\n",
    "\n",
    "    total_tokens += callback.total_tokens\n",
    "    total_cost += callback.total_cost"
   ]
  },
  {
   "cell_type": "code",
   "execution_count": 22,
   "metadata": {},
   "outputs": [],
   "source": [
    "output += \"\\n\\n\"\n",
    "\n",
    "with get_openai_callback() as callback:\n",
    "        \n",
    "    output += chain.predict(\n",
    "        input=\"\"\"\\\n",
    "Outline the technical roadmap for this product. What mobile devices should this application be available for? What is a scalable and reliable tech stack which can be used for the frontend and the backend for this application?\"\"\"\n",
    "    )\n",
    "\n",
    "    total_tokens += callback.total_tokens\n",
    "    total_cost += callback.total_cost"
   ]
  },
  {
   "cell_type": "code",
   "execution_count": 23,
   "metadata": {},
   "outputs": [
    {
     "name": "stdout",
     "output_type": "stream",
     "text": [
      "Total tokens: 17455\n",
      "Total cost: 0.034910000000000004\n"
     ]
    }
   ],
   "source": [
    "print(f\"Total tokens: {total_tokens}\")\n",
    "print(f\"Total cost: {total_cost}\")"
   ]
  },
  {
   "cell_type": "code",
   "execution_count": 27,
   "metadata": {},
   "outputs": [],
   "source": [
    "with open(\"../generated_prds/Instagram Threads PRD Chat gpt-3.5-turbo.md\", \"w\") as f:\n",
    "    f.write(output)"
   ]
  },
  {
   "cell_type": "code",
   "execution_count": 26,
   "metadata": {},
   "outputs": [
    {
     "data": {
      "text/markdown": [
       "## Purpose and Scope\n",
       "\n",
       "### Overview\n",
       "The purpose of Instagram Threads is to provide users with a platform to post tweet-like content. It aims to offer a more streamlined and focused experience for sharing short updates and thoughts.\n",
       "\n",
       "### Target Audience\n",
       "The target audience for Instagram Threads includes users of all ages, genders, and geographies who are interested in sharing quick updates and engaging in real-time conversations. \n",
       "\n",
       "### Stakeholders\n",
       "The stakeholders for Instagram Threads include:\n",
       "- Instagram: As the parent company, Instagram is responsible for the development, maintenance, and promotion of the Threads app.\n",
       "- Users: The primary stakeholders are the users who will be using the app to post tweet-like content and engage with others.\n",
       "- Advertisers: Advertisers may be interested in leveraging the platform to reach the target audience through targeted ads and sponsored content.\n",
       "\n",
       "### Rationale\n",
       "The target audience for Instagram Threads was chosen based on the following rationale:\n",
       "- Instagram's existing user base: Leveraging the popularity and user base of Instagram, Threads aims to provide a focused and dedicated platform for users to share tweet-like content.\n",
       "- Growing demand for real-time updates: With the increasing popularity of platforms like Twitter, there is a demand for quick and real-time updates. Threads aims to fulfill this need by providing a dedicated space for such content.\n",
       "- Differentiation from other products: Threads differentiates itself from other similar products by leveraging the existing Instagram ecosystem and offering a more streamlined and focused experience for short updates.\n",
       "\n",
       "### Gap and Differentiation\n",
       "Instagram Threads aims to fill the gap in the market for a dedicated platform that allows users to post tweet-like content. It differentiates itself from other similar products by:\n",
       "- Leveraging the existing Instagram user base and ecosystem.\n",
       "- Providing a more streamlined and focused experience for short updates.\n",
       "- Offering real-time conversations and engagement with other users.\n",
       "\n",
       "End of PRD.\n",
       "\n",
       "## Product Objectives Alignment with Company Objectives\n",
       "\n",
       "The product objectives of Instagram Threads align with the company objectives of Instagram. \n",
       "\n",
       "Reasoning:\n",
       "- Instagram is the parent company of Threads, and therefore, the product objectives are directly aligned with the overall goals and vision of Instagram.\n",
       "- Instagram aims to provide a diverse range of features and experiences to its users, and Threads contributes to this goal by offering a dedicated platform for tweet-like content.\n",
       "- The product objectives of Threads, such as providing a streamlined and focused experience for short updates, align with Instagram's objective of enhancing user engagement and satisfaction.\n",
       "\n",
       "Business Model Alignment:\n",
       "- The business model of Instagram Threads aligns with the business model of Instagram as a whole.\n",
       "- Both products rely on user engagement and interaction to generate value and revenue.\n",
       "- Threads can attract customers by offering a unique and focused platform for tweet-like content, which can increase user retention and attract new users to the Instagram ecosystem.\n",
       "- By providing a dedicated platform for short updates, Threads can generate profits through targeted advertising and sponsored content.\n",
       "- The goodwill of the company can be promoted by offering a seamless and integrated experience for users across different Instagram products, including Threads.\n",
       "\n",
       "Overall, Instagram Threads aligns with the company objectives of Instagram by contributing to user engagement, generating profits through advertising, and promoting the goodwill of the company through a seamless user experience.\n",
       "\n",
       "## Competitors Analysis\n",
       "\n",
       "### Current Competitors\n",
       "1. Twitter: Twitter is a well-established platform for posting tweet-like content. It has a large user base and offers real-time updates and conversations. However, it lacks the integration with the Instagram ecosystem and the focused experience that Threads provides.\n",
       "\n",
       "2. Facebook: Facebook, as the parent company of Instagram, can be considered a competitor in terms of offering a platform for sharing updates. However, Facebook's focus is more on long-form content and a broader range of features, while Threads aims to provide a more streamlined and focused experience for short updates.\n",
       "\n",
       "### Potential Competitors\n",
       "1. TikTok: TikTok is a popular platform for short-form video content. While it is not directly focused on tweet-like content, it competes for user attention and engagement. Threads can differentiate itself by offering a text-based platform specifically for short updates.\n",
       "\n",
       "2. Snapchat: Snapchat is another platform that allows users to share short updates and engage in real-time conversations. However, Threads can leverage the existing Instagram user base and ecosystem to attract users who are already active on Instagram.\n",
       "\n",
       "### Differences and Better Aspects\n",
       "- Instagram Threads differentiates itself from Twitter and Facebook by offering a more focused and streamlined experience for short updates.\n",
       "- Threads leverages the existing Instagram ecosystem, which includes a large user base and various features, to provide a seamless and integrated experience for users.\n",
       "- Compared to TikTok and Snapchat, Threads offers a text-based platform specifically for short updates, which can attract users who prefer text-based content over video-based content.\n",
       "\n",
       "Target Customers and Current Trends\n",
       "- The target customers for Instagram Threads are users of all ages, genders, and geographies who are interested in sharing quick updates and engaging in real-time conversations.\n",
       "- Threads caters to the current trend of real-time updates and the demand for quick and focused content.\n",
       "- To meet the current trends and expectations of users, the product should include features such as real-time notifications, easy sharing options, and a user-friendly interface for quick and seamless posting of tweet-like content.\n",
       "\n",
       "## Competitive Analysis\n",
       "\n",
       "| Application | User Base | User Region | Different Features Supported | Pricing Tiers |\n",
       "|-------------|-----------|-------------|-----------------------------|---------------|\n",
       "| Instagram Threads | Users of all ages, genders, and geographies | Global | - Tweet-like content posting <br> - Real-time updates and conversations <br> - Integration with Instagram ecosystem | Free |\n",
       "| Twitter | Users of all ages, genders, and geographies | Global | - Tweet-like content posting <br> - Real-time updates and conversations | Free <br> Premium tiers available |\n",
       "| Facebook | Users of all ages, genders, and geographies | Global | - Long-form content posting <br> - Broad range of features <br> - Real-time updates and conversations | Free <br> Premium tiers available |\n",
       "| TikTok | Users of all ages, genders, and geographies | Global | - Short-form video content posting <br> - Real-time updates and conversations | Free <br> In-app purchases available |\n",
       "| Snapchat | Users of all ages, genders, and geographies | Global | - Short updates and conversations <br> - Real-time updates and conversations <br> - Augmented reality features | Free <br> In-app purchases available |\n",
       "\n",
       "Note: The pricing tiers mentioned are based on the information available at the time of analysis and may be subject to change.\n",
       "\n",
       "## Important Features\n",
       "\n",
       "### Must Have\n",
       "1. **Tweet-like content posting**: This feature is essential as it is the core functionality of Instagram Threads, allowing users to share short updates and thoughts.\n",
       "\n",
       "2. **Real-time updates and conversations**: Real-time updates and conversations are crucial for creating an engaging and interactive experience for users, enabling them to connect and engage with others in real-time.\n",
       "\n",
       "### Should Have\n",
       "1. **Integration with Instagram ecosystem**: Integrating Threads with the existing Instagram ecosystem will provide a seamless and integrated experience for users, allowing them to leverage their existing Instagram connections and features.\n",
       "\n",
       "2. **User-friendly interface**: A user-friendly interface is important to ensure ease of use and quick posting of tweet-like content. It should be intuitive and require minimal effort for users to navigate and interact with the app.\n",
       "\n",
       "### Could Have\n",
       "1. **Customizable privacy settings**: Providing customizable privacy settings would allow users to control the visibility of their tweet-like content, ensuring they have control over who can view and engage with their posts.\n",
       "\n",
       "2. **Advanced search and discovery**: Implementing advanced search and discovery features would enhance the user experience by allowing users to find relevant content and connect with like-minded individuals.\n",
       "\n",
       "### Won't Have\n",
       "1. **Long-form content posting**: Instagram Threads focuses on tweet-like content and aims to provide a more streamlined and focused experience. Therefore, long-form content posting is not a priority for this product.\n",
       "\n",
       "2. **Augmented reality features**: While augmented reality features can enhance the user experience, they are not essential for the core functionality of Instagram Threads and may not align with the product's purpose and scope.\n",
       "\n",
       "User Inputs and Data Usage\n",
       "- User inputs can be collected through various channels such as in-app surveys, feedback forms, and user interviews. This data can be used to understand user preferences, pain points, and feature requests, which can inform future product enhancements and updates.\n",
       "- User data collected, such as user demographics, engagement patterns, and content preferences, can be analyzed to gain insights into user behavior and preferences. This data can be used to personalize the user experience, improve content recommendations, and identify opportunities for new features or improvements.\n",
       "\n",
       "## Quality of Completeness for MVP\n",
       "\n",
       "The Minimum Viable Product (MVP) stage of Instagram Threads requires the following level of completeness:\n",
       "\n",
       "1. **Core functionality**: The core functionality of Instagram Threads, which includes tweet-like content posting and real-time updates and conversations, should be fully implemented and functional.\n",
       "\n",
       "2. **Stable and reliable**: The product should be stable and reliable, with minimal bugs and errors that could hinder the user experience.\n",
       "\n",
       "3. **User-friendly interface**: The user interface should be intuitive and easy to navigate, ensuring a seamless user experience.\n",
       "\n",
       "4. **Basic privacy and security measures**: Basic privacy and security measures should be in place to protect user data and ensure user trust.\n",
       "\n",
       "5. **Integration with Instagram ecosystem**: The integration with the existing Instagram ecosystem should be implemented, allowing users to leverage their Instagram connections and features.\n",
       "\n",
       "6. **Basic performance optimization**: The product should be optimized for basic performance, ensuring smooth and responsive user interactions.\n",
       "\n",
       "By achieving these levels of completeness, Instagram Threads can reach the MVP stage and provide a functional and valuable experience to its users.\n",
       "\n",
       "## Success Definition and Key Performance Indicators (KPIs)\n",
       "\n",
       "### Success Definition\n",
       "The success of Instagram Threads can be defined by the following factors:\n",
       "1. **User Engagement**: The level of user engagement, including the number of active users, frequency of usage, and time spent on the app, indicates the product's success in attracting and retaining users.\n",
       "2. **User Satisfaction**: User satisfaction can be measured through user feedback, ratings, and reviews, indicating how well the product meets user expectations and needs.\n",
       "3. **Market Share**: The market share of Instagram Threads compared to its competitors reflects its success in attracting and retaining users in the market.\n",
       "4. **Revenue Generation**: The revenue generated through advertising and sponsored content on Instagram Threads indicates its success in monetizing the platform.\n",
       "\n",
       "### Key Performance Indicators (KPIs)\n",
       "1. **Active Users**: The number of active users on Instagram Threads, measured through user logins and interactions, indicates the level of user engagement and adoption.\n",
       "2. **Retention Rate**: The percentage of users who continue to use Instagram Threads over a specific period of time indicates the product's ability to retain users.\n",
       "3. **User Satisfaction Score**: User satisfaction can be measured through surveys, ratings, and reviews, providing insights into user perceptions and feedback.\n",
       "4. **Market Share**: The market share of Instagram Threads compared to its competitors, measured through user base and engagement metrics, reflects its success in attracting and retaining users in the market.\n",
       "5. **Advertising Revenue**: The revenue generated through targeted advertising and sponsored content on Instagram Threads indicates its success in monetizing the platform.\n",
       "\n",
       "### Usage of KPIs for Product Improvement\n",
       "By monitoring and analyzing these KPIs, the product team can gain insights into user behavior, preferences, and pain points. This data can be used to:\n",
       "- Identify areas of improvement and prioritize feature enhancements based on user feedback and satisfaction scores.\n",
       "- Optimize user acquisition and retention strategies based on active user and retention rate metrics.\n",
       "- Benchmark against competitors and identify opportunities for market growth and expansion.\n",
       "- Optimize advertising strategies and revenue generation through targeted advertising and sponsored content.\n",
       "\n",
       "Overall, these KPIs provide a quantitative and qualitative measurement of the product's success and guide the product team in making data-driven decisions to improve the product and meet user expectations.\n",
       "\n",
       "## Technical Roadmap\n",
       "\n",
       "### Mobile Device Compatibility\n",
       "Instagram Threads should be available for the following mobile devices:\n",
       "- iOS devices (iPhone and iPad) running iOS 12 or later\n",
       "- Android devices running Android 8.0 (Oreo) or later\n",
       "\n",
       "### Frontend Tech Stack\n",
       "A scalable and reliable tech stack for the frontend of Instagram Threads could include:\n",
       "- **React Native**: React Native can be used to develop a cross-platform mobile application, allowing for efficient development and maintenance of the app for both iOS and Android platforms.\n",
       "- **JavaScript**: JavaScript can be used as the primary programming language for frontend development, leveraging its wide range of libraries and frameworks.\n",
       "- **Redux**: Redux can be used for state management, ensuring a predictable and efficient data flow within the application.\n",
       "- **CSS Framework**: A CSS framework such as Bootstrap or Material-UI can be used to ensure a consistent and responsive user interface design.\n",
       "\n",
       "### Backend Tech Stack\n",
       "A scalable and reliable tech stack for the backend of Instagram Threads could include:\n",
       "- **Node.js**: Node.js can be used as the backend runtime environment, providing a scalable and efficient platform for server-side development.\n",
       "- **Express.js**: Express.js can be used as the web application framework for building the backend API, enabling efficient routing and handling of HTTP requests.\n",
       "- **MongoDB**: MongoDB can be used as the database management system, providing a scalable and flexible NoSQL database for storing user data and content.\n",
       "- **AWS S3**: AWS S3 can be used for storing and serving user-generated content such as images and videos, ensuring scalability and reliability.\n",
       "- **Authentication and Authorization**: Implementing a secure authentication and authorization mechanism, such as OAuth or JWT, to protect user data and ensure secure access to the application.\n",
       "\n",
       "By utilizing this tech stack, Instagram Threads can ensure a scalable, reliable, and efficient development process for both the frontend and backend of the application."
      ],
      "text/plain": [
       "<IPython.core.display.Markdown object>"
      ]
     },
     "metadata": {},
     "output_type": "display_data"
    }
   ],
   "source": [
    "display(Markdown(output))"
   ]
  }
 ],
 "metadata": {
  "kernelspec": {
   "display_name": "synap_labs_env",
   "language": "python",
   "name": "python3"
  },
  "language_info": {
   "codemirror_mode": {
    "name": "ipython",
    "version": 3
   },
   "file_extension": ".py",
   "mimetype": "text/x-python",
   "name": "python",
   "nbconvert_exporter": "python",
   "pygments_lexer": "ipython3",
   "version": "3.10.5"
  },
  "orig_nbformat": 4
 },
 "nbformat": 4,
 "nbformat_minor": 2
}
